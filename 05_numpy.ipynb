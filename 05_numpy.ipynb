{
 "cells": [
  {
   "cell_type": "code",
   "execution_count": 1,
   "id": "410b14b9-b028-4896-9e37-752547ee8940",
   "metadata": {},
   "outputs": [],
   "source": [
    "import numpy as np"
   ]
  },
  {
   "cell_type": "code",
   "execution_count": 2,
   "id": "77eb102e-681a-488b-9497-989492ddd53d",
   "metadata": {},
   "outputs": [],
   "source": [
    "l = [1,2,3,4,5,6]\n",
    "\n",
    "arr = np.array(l)"
   ]
  },
  {
   "cell_type": "code",
   "execution_count": 3,
   "id": "0c61fda6-272d-4408-897b-92d6f52a5dae",
   "metadata": {},
   "outputs": [
    {
     "data": {
      "text/plain": [
       "array([1, 2, 3, 4, 5, 6])"
      ]
     },
     "execution_count": 3,
     "metadata": {},
     "output_type": "execute_result"
    }
   ],
   "source": [
    "arr"
   ]
  },
  {
   "cell_type": "code",
   "execution_count": 4,
   "id": "7b893af8-f0da-4815-83b2-537f43ea431f",
   "metadata": {},
   "outputs": [
    {
     "data": {
      "text/plain": [
       "numpy.ndarray"
      ]
     },
     "execution_count": 4,
     "metadata": {},
     "output_type": "execute_result"
    }
   ],
   "source": [
    "type(arr)"
   ]
  },
  {
   "cell_type": "code",
   "execution_count": 5,
   "id": "7d135854-7b1e-41ed-af78-56aa188da27e",
   "metadata": {},
   "outputs": [
    {
     "data": {
      "text/plain": [
       "array([1, 2, 3, 4, 5, 6])"
      ]
     },
     "execution_count": 5,
     "metadata": {},
     "output_type": "execute_result"
    }
   ],
   "source": [
    "np.asarray(l)  # it also creates the same array"
   ]
  },
  {
   "cell_type": "code",
   "execution_count": 12,
   "id": "e0799b39-19c4-4724-89fb-801bfb2a791d",
   "metadata": {},
   "outputs": [],
   "source": [
    "arr1 = np.array([[1,2,3],[2,3,4]])\n",
    "\n",
    "               # columns\n",
    "\n",
    "             #   0   1   2  <--  x - axis    \n",
    "      # rows-0 [ 1 , 2 , 3 ]\n",
    "\n",
    "# y-axis --> 1 [ 2 , 3 , 4 ]  \n"
   ]
  },
  {
   "cell_type": "code",
   "execution_count": 8,
   "id": "7ff5650f-e868-4610-9663-d9cadb31b6e1",
   "metadata": {},
   "outputs": [
    {
     "data": {
      "text/plain": [
       "numpy.ndarray"
      ]
     },
     "execution_count": 8,
     "metadata": {},
     "output_type": "execute_result"
    }
   ],
   "source": [
    "type(arr1)"
   ]
  },
  {
   "cell_type": "code",
   "execution_count": null,
   "id": "13a6a408-37c5-46d6-822e-37e72fe32ab9",
   "metadata": {},
   "outputs": [],
   "source": []
  },
  {
   "cell_type": "code",
   "execution_count": 9,
   "id": "67d677d3-c0eb-4b85-bd94-4060e11043ba",
   "metadata": {},
   "outputs": [
    {
     "data": {
      "text/plain": [
       "1"
      ]
     },
     "execution_count": 9,
     "metadata": {},
     "output_type": "execute_result"
    }
   ],
   "source": [
    "# check the dimension of both array\n",
    "\n",
    "arr.ndim"
   ]
  },
  {
   "cell_type": "code",
   "execution_count": 10,
   "id": "a22a62e9-1695-43e3-a0b9-668f9934aae8",
   "metadata": {},
   "outputs": [
    {
     "data": {
      "text/plain": [
       "2"
      ]
     },
     "execution_count": 10,
     "metadata": {},
     "output_type": "execute_result"
    }
   ],
   "source": [
    "arr1.ndim"
   ]
  },
  {
   "cell_type": "code",
   "execution_count": 19,
   "id": "89349e7f-3bfa-455a-8525-8ae9f8cb7473",
   "metadata": {},
   "outputs": [],
   "source": [
    "arr2 = np.matrix(l)  # it will return an array of min 2 dimemsion"
   ]
  },
  {
   "cell_type": "code",
   "execution_count": 20,
   "id": "072d1f3b-7088-4558-b025-45e9990ed608",
   "metadata": {},
   "outputs": [
    {
     "data": {
      "text/plain": [
       "matrix([[1, 2, 3, 4, 5, 6]])"
      ]
     },
     "execution_count": 20,
     "metadata": {},
     "output_type": "execute_result"
    }
   ],
   "source": [
    "arr2"
   ]
  },
  {
   "cell_type": "code",
   "execution_count": 16,
   "id": "c9322245-e8cb-4e25-a2e7-07ac74e52c95",
   "metadata": {},
   "outputs": [
    {
     "data": {
      "text/plain": [
       "2"
      ]
     },
     "execution_count": 16,
     "metadata": {},
     "output_type": "execute_result"
    }
   ],
   "source": [
    "arr2.ndim"
   ]
  },
  {
   "cell_type": "code",
   "execution_count": 17,
   "id": "2b089038-d55e-44f0-b7ec-f2cec1035091",
   "metadata": {},
   "outputs": [
    {
     "data": {
      "text/plain": [
       "numpy.matrix"
      ]
     },
     "execution_count": 17,
     "metadata": {},
     "output_type": "execute_result"
    }
   ],
   "source": [
    "type(arr2)"
   ]
  },
  {
   "cell_type": "code",
   "execution_count": null,
   "id": "b88579a2-6cf9-46d8-8eb2-efec30940c9b",
   "metadata": {},
   "outputs": [],
   "source": []
  },
  {
   "cell_type": "code",
   "execution_count": 21,
   "id": "688fd39a-6afb-4e1b-a21b-63bb3370abe1",
   "metadata": {},
   "outputs": [
    {
     "data": {
      "text/plain": [
       "array([1, 2, 3, 4, 5, 6])"
      ]
     },
     "execution_count": 21,
     "metadata": {},
     "output_type": "execute_result"
    }
   ],
   "source": [
    "np.asanyarray(l)  # it aslo creates an array"
   ]
  },
  {
   "cell_type": "code",
   "execution_count": 23,
   "id": "1daf7668-5624-49cd-9ed5-c0d789e28f5d",
   "metadata": {},
   "outputs": [
    {
     "data": {
      "text/plain": [
       "matrix([[1, 2, 3, 4, 5, 6]])"
      ]
     },
     "execution_count": 23,
     "metadata": {},
     "output_type": "execute_result"
    }
   ],
   "source": [
    "np.asanyarray(arr2)  # it wil make no changes\n",
    "\n",
    "# because asanyarray() is a function which is able to convert those things into an array which are present in other forms other than array.\n",
    "\n",
    "#  matrix is a type of array , so this function will not make any changes"
   ]
  },
  {
   "cell_type": "code",
   "execution_count": null,
   "id": "28c4cc6f-3ec6-404f-ba01-af185dc7f5aa",
   "metadata": {},
   "outputs": [],
   "source": []
  },
  {
   "cell_type": "code",
   "execution_count": 24,
   "id": "1338c1a7-b764-4ddf-ac95-8c861b232e2a",
   "metadata": {},
   "outputs": [
    {
     "data": {
      "text/plain": [
       "array([1, 2, 3, 4, 5, 6])"
      ]
     },
     "execution_count": 24,
     "metadata": {},
     "output_type": "execute_result"
    }
   ],
   "source": [
    "arr"
   ]
  },
  {
   "cell_type": "code",
   "execution_count": 25,
   "id": "fcde7342-b0dc-4ed0-8612-2ae3aeedccef",
   "metadata": {},
   "outputs": [],
   "source": [
    "a = arr"
   ]
  },
  {
   "cell_type": "code",
   "execution_count": 26,
   "id": "bcbd58cc-a13d-4744-a7a3-e9d078aceb6f",
   "metadata": {},
   "outputs": [
    {
     "data": {
      "text/plain": [
       "array([1, 2, 3, 4, 5, 6])"
      ]
     },
     "execution_count": 26,
     "metadata": {},
     "output_type": "execute_result"
    }
   ],
   "source": [
    "a"
   ]
  },
  {
   "cell_type": "code",
   "execution_count": 27,
   "id": "44999038-5578-41a0-84ca-8ca8601d2184",
   "metadata": {},
   "outputs": [],
   "source": [
    "arr[0] = 100  # it will also make changes in the \"a\" and this copying is called 'solo copying'"
   ]
  },
  {
   "cell_type": "code",
   "execution_count": 28,
   "id": "5ba1920c-db95-4f18-aac9-ad80182b128d",
   "metadata": {},
   "outputs": [
    {
     "data": {
      "text/plain": [
       "array([100,   2,   3,   4,   5,   6])"
      ]
     },
     "execution_count": 28,
     "metadata": {},
     "output_type": "execute_result"
    }
   ],
   "source": [
    "arr"
   ]
  },
  {
   "cell_type": "code",
   "execution_count": 29,
   "id": "117cb028-7ac5-4bd5-ac8f-9efe9317b4f4",
   "metadata": {},
   "outputs": [
    {
     "data": {
      "text/plain": [
       "array([100,   2,   3,   4,   5,   6])"
      ]
     },
     "execution_count": 29,
     "metadata": {},
     "output_type": "execute_result"
    }
   ],
   "source": [
    "a  "
   ]
  },
  {
   "cell_type": "code",
   "execution_count": null,
   "id": "07294e82-0a3a-4c35-83df-cfddbae60508",
   "metadata": {},
   "outputs": [],
   "source": []
  },
  {
   "cell_type": "code",
   "execution_count": 30,
   "id": "687279d7-f1bf-4e72-b595-746d90f4f383",
   "metadata": {},
   "outputs": [],
   "source": [
    "b = arr.copy()"
   ]
  },
  {
   "cell_type": "code",
   "execution_count": 31,
   "id": "07b3dcb7-5a49-4304-9b96-c9f4273690af",
   "metadata": {},
   "outputs": [
    {
     "data": {
      "text/plain": [
       "array([100,   2,   3,   4,   5,   6])"
      ]
     },
     "execution_count": 31,
     "metadata": {},
     "output_type": "execute_result"
    }
   ],
   "source": [
    "b"
   ]
  },
  {
   "cell_type": "code",
   "execution_count": 32,
   "id": "202159b8-c65c-4dfc-acce-7cc092e8ccdc",
   "metadata": {},
   "outputs": [],
   "source": [
    "arr[0] = 1  # it will not make changes to \"b\"  bcs a new memory space is created and copy the array into it\n",
    "\n",
    "#  this level of copying is called 'Deep Copying'"
   ]
  },
  {
   "cell_type": "code",
   "execution_count": 33,
   "id": "7717cc26-a002-4918-80c2-7246ad2c412f",
   "metadata": {},
   "outputs": [
    {
     "data": {
      "text/plain": [
       "array([1, 2, 3, 4, 5, 6])"
      ]
     },
     "execution_count": 33,
     "metadata": {},
     "output_type": "execute_result"
    }
   ],
   "source": [
    "arr"
   ]
  },
  {
   "cell_type": "code",
   "execution_count": 34,
   "id": "8521aa4d-a35b-4a2a-9d0d-43b9478c7d84",
   "metadata": {},
   "outputs": [
    {
     "data": {
      "text/plain": [
       "array([100,   2,   3,   4,   5,   6])"
      ]
     },
     "execution_count": 34,
     "metadata": {},
     "output_type": "execute_result"
    }
   ],
   "source": [
    "b"
   ]
  },
  {
   "cell_type": "code",
   "execution_count": null,
   "id": "d0b4f98b-9f56-4ea9-b450-daf3d27b9a23",
   "metadata": {},
   "outputs": [],
   "source": []
  },
  {
   "cell_type": "code",
   "execution_count": 35,
   "id": "b221581a-0583-474f-8a59-6d211c175c82",
   "metadata": {},
   "outputs": [],
   "source": [
    "#  some functions"
   ]
  },
  {
   "cell_type": "code",
   "execution_count": null,
   "id": "8a160d2f-8f2a-4952-bdcf-d8e779358661",
   "metadata": {},
   "outputs": [],
   "source": []
  },
  {
   "cell_type": "code",
   "execution_count": 36,
   "id": "e55c5729-831b-44f4-ade4-af74d7d922e1",
   "metadata": {},
   "outputs": [],
   "source": [
    "arr3 = np.fromfunction(lambda i ,j : i==j , (3,3))  # (3,3) = shape [ 3 rows , 3 columns ]"
   ]
  },
  {
   "cell_type": "code",
   "execution_count": 37,
   "id": "f9ca4c81-74dd-412a-8642-02dfa0f10b62",
   "metadata": {},
   "outputs": [
    {
     "data": {
      "text/plain": [
       "array([[ True, False, False],\n",
       "       [False,  True, False],\n",
       "       [False, False,  True]])"
      ]
     },
     "execution_count": 37,
     "metadata": {},
     "output_type": "execute_result"
    }
   ],
   "source": [
    "arr3"
   ]
  },
  {
   "cell_type": "code",
   "execution_count": 38,
   "id": "c94f62c9-77f5-4ec9-b4e1-ca1c08e7283b",
   "metadata": {},
   "outputs": [],
   "source": [
    "arr4 = np.fromfunction(lambda x , y : x * y , (3,3))"
   ]
  },
  {
   "cell_type": "code",
   "execution_count": 39,
   "id": "b2116b05-d4d5-4294-9165-81d384b58fe0",
   "metadata": {},
   "outputs": [
    {
     "data": {
      "text/plain": [
       "array([[0., 0., 0.],\n",
       "       [0., 1., 2.],\n",
       "       [0., 2., 4.]])"
      ]
     },
     "execution_count": 39,
     "metadata": {},
     "output_type": "execute_result"
    }
   ],
   "source": [
    "arr4"
   ]
  },
  {
   "cell_type": "code",
   "execution_count": null,
   "id": "5b8fa2ad-38ab-43a9-981a-94f314f8a314",
   "metadata": {},
   "outputs": [],
   "source": []
  },
  {
   "cell_type": "code",
   "execution_count": 40,
   "id": "d9ef3e93-3f35-4870-821d-1c1c4b129008",
   "metadata": {},
   "outputs": [
    {
     "data": {
      "text/plain": [
       "[0, 1, 4, 9, 16]"
      ]
     },
     "execution_count": 40,
     "metadata": {},
     "output_type": "execute_result"
    }
   ],
   "source": [
    "list(i**2 for i in range(5))"
   ]
  },
  {
   "cell_type": "code",
   "execution_count": 45,
   "id": "83fd80a1-5596-45bb-a5ac-d9e1642b7bc9",
   "metadata": {},
   "outputs": [
    {
     "data": {
      "text/plain": [
       "array([ 0,  1,  4,  9, 16])"
      ]
     },
     "execution_count": 45,
     "metadata": {},
     "output_type": "execute_result"
    }
   ],
   "source": [
    "#  some kind of operations we want to do to make array\n",
    "\n",
    "iterable = ( i**2 for i in range(5))\n",
    "np.fromiter(iterable , int)"
   ]
  },
  {
   "cell_type": "code",
   "execution_count": null,
   "id": "6a46eae1-7ad3-4f75-b90a-c820b449a9f1",
   "metadata": {},
   "outputs": [],
   "source": []
  },
  {
   "cell_type": "code",
   "execution_count": 46,
   "id": "68cc560c-25fd-4a23-855d-0987df724610",
   "metadata": {},
   "outputs": [
    {
     "data": {
      "text/plain": [
       "array([2., 3., 4., 5., 6.])"
      ]
     },
     "execution_count": 46,
     "metadata": {},
     "output_type": "execute_result"
    }
   ],
   "source": [
    "np.fromstring(\"2 3 4 5 6 \" , sep = (\" \"))"
   ]
  },
  {
   "cell_type": "code",
   "execution_count": null,
   "id": "af5914b6-3d58-4b35-af6b-d4f519b4a1a5",
   "metadata": {},
   "outputs": [],
   "source": []
  },
  {
   "cell_type": "code",
   "execution_count": 48,
   "id": "9e476f7d-dc0c-4a9c-8626-0f5cc5a78a8e",
   "metadata": {},
   "outputs": [
    {
     "data": {
      "text/plain": [
       "array([2, 3, 4, 5, 6])"
      ]
     },
     "execution_count": 48,
     "metadata": {},
     "output_type": "execute_result"
    }
   ],
   "source": [
    "np.fromstring(\"2,3,4,5,6\" , sep = (\",\") , dtype = int)"
   ]
  },
  {
   "cell_type": "code",
   "execution_count": null,
   "id": "68ddc9e2-a46d-4235-ad9e-9a88e1d33d0b",
   "metadata": {},
   "outputs": [],
   "source": []
  },
  {
   "cell_type": "code",
   "execution_count": 49,
   "id": "c81d1e45-d213-4799-9b44-a33cd680e248",
   "metadata": {},
   "outputs": [
    {
     "data": {
      "text/plain": [
       "array([1, 2, 3, 4, 5, 6])"
      ]
     },
     "execution_count": 49,
     "metadata": {},
     "output_type": "execute_result"
    }
   ],
   "source": [
    "arr"
   ]
  },
  {
   "cell_type": "code",
   "execution_count": 51,
   "id": "d6fb886f-bd5a-4e16-b441-51dd9ae6e064",
   "metadata": {},
   "outputs": [
    {
     "data": {
      "text/plain": [
       "(6,)"
      ]
     },
     "execution_count": 51,
     "metadata": {},
     "output_type": "execute_result"
    }
   ],
   "source": [
    "np.shape(arr)  # or arr.shape"
   ]
  },
  {
   "cell_type": "code",
   "execution_count": 52,
   "id": "5474c583-e787-4c3d-aca1-d1c885fe5673",
   "metadata": {},
   "outputs": [
    {
     "data": {
      "text/plain": [
       "array([[1, 2, 3],\n",
       "       [2, 3, 4]])"
      ]
     },
     "execution_count": 52,
     "metadata": {},
     "output_type": "execute_result"
    }
   ],
   "source": [
    "arr1"
   ]
  },
  {
   "cell_type": "code",
   "execution_count": 53,
   "id": "40c7e649-49c6-45e8-b4e0-17da771f2c71",
   "metadata": {},
   "outputs": [
    {
     "data": {
      "text/plain": [
       "(2, 3)"
      ]
     },
     "execution_count": 53,
     "metadata": {},
     "output_type": "execute_result"
    }
   ],
   "source": [
    "np.shape(arr1)"
   ]
  },
  {
   "cell_type": "code",
   "execution_count": null,
   "id": "97a0286e-14f8-4569-846b-6dc04402baf4",
   "metadata": {},
   "outputs": [],
   "source": []
  },
  {
   "cell_type": "code",
   "execution_count": 54,
   "id": "e5d61dde-5ae1-45d1-b9c2-e0519f1e690b",
   "metadata": {},
   "outputs": [
    {
     "data": {
      "text/plain": [
       "array([1, 2, 3, 4, 5, 6])"
      ]
     },
     "execution_count": 54,
     "metadata": {},
     "output_type": "execute_result"
    }
   ],
   "source": [
    "arr"
   ]
  },
  {
   "cell_type": "code",
   "execution_count": 55,
   "id": "45fdd9b3-bf54-440e-b350-9be7088c5ecf",
   "metadata": {},
   "outputs": [
    {
     "data": {
      "text/plain": [
       "6"
      ]
     },
     "execution_count": 55,
     "metadata": {},
     "output_type": "execute_result"
    }
   ],
   "source": [
    "np.size(arr)   # or arr.size"
   ]
  },
  {
   "cell_type": "code",
   "execution_count": 56,
   "id": "64a5ebda-5f7a-4d44-9209-3df0aa45de7c",
   "metadata": {},
   "outputs": [
    {
     "data": {
      "text/plain": [
       "array([[1, 2, 3],\n",
       "       [2, 3, 4]])"
      ]
     },
     "execution_count": 56,
     "metadata": {},
     "output_type": "execute_result"
    }
   ],
   "source": [
    "arr1"
   ]
  },
  {
   "cell_type": "code",
   "execution_count": 57,
   "id": "bd311c13-6b7d-483a-89d2-9c5a3d3cf0e3",
   "metadata": {},
   "outputs": [
    {
     "data": {
      "text/plain": [
       "6"
      ]
     },
     "execution_count": 57,
     "metadata": {},
     "output_type": "execute_result"
    }
   ],
   "source": [
    "np.size(arr1)"
   ]
  },
  {
   "cell_type": "code",
   "execution_count": 58,
   "id": "db011e9b-b507-458b-ae97-7a6fa5b3221e",
   "metadata": {},
   "outputs": [
    {
     "data": {
      "text/plain": [
       "2"
      ]
     },
     "execution_count": 58,
     "metadata": {},
     "output_type": "execute_result"
    }
   ],
   "source": [
    "arr1.ndim"
   ]
  },
  {
   "cell_type": "code",
   "execution_count": 59,
   "id": "033fa600-7a8f-4c7a-9920-727312c14c79",
   "metadata": {},
   "outputs": [
    {
     "data": {
      "text/plain": [
       "1"
      ]
     },
     "execution_count": 59,
     "metadata": {},
     "output_type": "execute_result"
    }
   ],
   "source": [
    "arr.ndim"
   ]
  },
  {
   "cell_type": "code",
   "execution_count": 60,
   "id": "685f14e1-0262-4e89-aff1-6e5b328c5a3b",
   "metadata": {},
   "outputs": [
    {
     "data": {
      "text/plain": [
       "dtype('int64')"
      ]
     },
     "execution_count": 60,
     "metadata": {},
     "output_type": "execute_result"
    }
   ],
   "source": [
    "arr.dtype"
   ]
  },
  {
   "cell_type": "code",
   "execution_count": null,
   "id": "c871e0ad-b08d-49d3-abcf-0794de6659d6",
   "metadata": {},
   "outputs": [],
   "source": []
  }
 ],
 "metadata": {
  "kernelspec": {
   "display_name": "Python 3 (ipykernel)",
   "language": "python",
   "name": "python3"
  },
  "language_info": {
   "codemirror_mode": {
    "name": "ipython",
    "version": 3
   },
   "file_extension": ".py",
   "mimetype": "text/x-python",
   "name": "python",
   "nbconvert_exporter": "python",
   "pygments_lexer": "ipython3",
   "version": "3.10.8"
  }
 },
 "nbformat": 4,
 "nbformat_minor": 5
}
