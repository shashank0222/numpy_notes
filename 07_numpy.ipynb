{
 "cells": [
  {
   "cell_type": "code",
   "execution_count": 2,
   "id": "acd8e732-9c7e-4acf-9260-29da92aafcdf",
   "metadata": {},
   "outputs": [],
   "source": [
    "import numpy as np"
   ]
  },
  {
   "cell_type": "code",
   "execution_count": null,
   "id": "92d6821e-d0ac-4815-9c87-4dc41ff0fd63",
   "metadata": {},
   "outputs": [],
   "source": []
  },
  {
   "cell_type": "code",
   "execution_count": 3,
   "id": "6b9134c9-b854-40f2-9815-400fb1e4e5c0",
   "metadata": {},
   "outputs": [],
   "source": [
    "# Numpy - Array Manipulation"
   ]
  },
  {
   "cell_type": "code",
   "execution_count": 16,
   "id": "a2564eda-6a2c-4dcd-bfae-56650e987482",
   "metadata": {},
   "outputs": [],
   "source": [
    "arr = np.random.randint(1,10,(4,4))"
   ]
  },
  {
   "cell_type": "code",
   "execution_count": 17,
   "id": "edf820d0-fde6-4639-a995-fad749513a1f",
   "metadata": {},
   "outputs": [
    {
     "data": {
      "text/plain": [
       "array([[7, 7, 2, 3],\n",
       "       [3, 2, 5, 3],\n",
       "       [9, 7, 4, 7],\n",
       "       [6, 3, 1, 2]])"
      ]
     },
     "execution_count": 17,
     "metadata": {},
     "output_type": "execute_result"
    }
   ],
   "source": [
    "arr\n"
   ]
  },
  {
   "cell_type": "code",
   "execution_count": 18,
   "id": "efbf5df3-1412-41c9-857e-4c5f928e06ce",
   "metadata": {},
   "outputs": [
    {
     "data": {
      "text/plain": [
       "array([[[7, 7, 2, 3],\n",
       "        [3, 2, 5, 3]],\n",
       "\n",
       "       [[9, 7, 4, 7],\n",
       "        [6, 3, 1, 2]]])"
      ]
     },
     "execution_count": 18,
     "metadata": {},
     "output_type": "execute_result"
    }
   ],
   "source": [
    "arr.reshape(2,2,4)"
   ]
  },
  {
   "cell_type": "code",
   "execution_count": null,
   "id": "3da45cb1-fdff-404d-b992-ef61847e4cb1",
   "metadata": {},
   "outputs": [],
   "source": []
  },
  {
   "cell_type": "code",
   "execution_count": 19,
   "id": "28641173-393e-46a3-b3da-231178f3da36",
   "metadata": {},
   "outputs": [
    {
     "data": {
      "text/plain": [
       "array([[7, 7, 2, 3],\n",
       "       [3, 2, 5, 3],\n",
       "       [9, 7, 4, 7],\n",
       "       [6, 3, 1, 2]])"
      ]
     },
     "execution_count": 19,
     "metadata": {},
     "output_type": "execute_result"
    }
   ],
   "source": [
    "arr"
   ]
  },
  {
   "cell_type": "code",
   "execution_count": 20,
   "id": "27e66673-04e5-449b-ba66-ff2817f69b6f",
   "metadata": {},
   "outputs": [
    {
     "data": {
      "text/plain": [
       "array([[7, 3, 9, 6],\n",
       "       [7, 2, 7, 3],\n",
       "       [2, 5, 4, 1],\n",
       "       [3, 3, 7, 2]])"
      ]
     },
     "execution_count": 20,
     "metadata": {},
     "output_type": "execute_result"
    }
   ],
   "source": [
    "arr.T  # transpose"
   ]
  },
  {
   "cell_type": "code",
   "execution_count": null,
   "id": "3e4a9504-43ee-432d-bc41-9a0575d8661e",
   "metadata": {},
   "outputs": [],
   "source": []
  },
  {
   "cell_type": "code",
   "execution_count": 21,
   "id": "2c98b01a-da71-4b33-85c6-734b14a7fd30",
   "metadata": {},
   "outputs": [
    {
     "data": {
      "text/plain": [
       "array([7, 7, 2, 3, 3, 2, 5, 3, 9, 7, 4, 7, 6, 3, 1, 2])"
      ]
     },
     "execution_count": 21,
     "metadata": {},
     "output_type": "execute_result"
    }
   ],
   "source": [
    "arr.flatten()  # it falttens the array to 1 D array"
   ]
  },
  {
   "cell_type": "code",
   "execution_count": null,
   "id": "9182b5fd-1f84-40e7-af5b-e8288fb138ac",
   "metadata": {},
   "outputs": [],
   "source": []
  },
  {
   "cell_type": "code",
   "execution_count": 22,
   "id": "d51cd8cb-b207-48ca-9c10-0579472530e3",
   "metadata": {},
   "outputs": [
    {
     "data": {
      "text/plain": [
       "array([[7, 7, 2, 3],\n",
       "       [3, 2, 5, 3],\n",
       "       [9, 7, 4, 7],\n",
       "       [6, 3, 1, 2]])"
      ]
     },
     "execution_count": 22,
     "metadata": {},
     "output_type": "execute_result"
    }
   ],
   "source": [
    "arr"
   ]
  },
  {
   "cell_type": "code",
   "execution_count": 23,
   "id": "ac94b4a5-9999-4022-8691-798fa5b76c9a",
   "metadata": {},
   "outputs": [
    {
     "data": {
      "text/plain": [
       "array([[[7, 7, 2, 3]],\n",
       "\n",
       "       [[3, 2, 5, 3]],\n",
       "\n",
       "       [[9, 7, 4, 7]],\n",
       "\n",
       "       [[6, 3, 1, 2]]])"
      ]
     },
     "execution_count": 23,
     "metadata": {},
     "output_type": "execute_result"
    }
   ],
   "source": [
    "np.expand_dims(arr , axis = 1)  # expand the dimension along column"
   ]
  },
  {
   "cell_type": "code",
   "execution_count": 24,
   "id": "7861c551-6a52-46d4-abc2-7bc840cf54df",
   "metadata": {},
   "outputs": [
    {
     "data": {
      "text/plain": [
       "array([[[7, 7, 2, 3],\n",
       "        [3, 2, 5, 3],\n",
       "        [9, 7, 4, 7],\n",
       "        [6, 3, 1, 2]]])"
      ]
     },
     "execution_count": 24,
     "metadata": {},
     "output_type": "execute_result"
    }
   ],
   "source": [
    "np.expand_dims(arr ,axis=0)  # expand the dimension along row"
   ]
  },
  {
   "cell_type": "code",
   "execution_count": null,
   "id": "964c6388-2c48-44c6-8f3e-ace06c7ec21a",
   "metadata": {},
   "outputs": [],
   "source": []
  },
  {
   "cell_type": "code",
   "execution_count": 25,
   "id": "37f1ede9-1a5b-44db-b454-0871bff07f55",
   "metadata": {},
   "outputs": [],
   "source": [
    "data = np.array([[1],[2],[3]])"
   ]
  },
  {
   "cell_type": "code",
   "execution_count": 26,
   "id": "38a4b71f-f6b6-40a9-8692-5fe135840a6b",
   "metadata": {},
   "outputs": [
    {
     "data": {
      "text/plain": [
       "array([[1],\n",
       "       [2],\n",
       "       [3]])"
      ]
     },
     "execution_count": 26,
     "metadata": {},
     "output_type": "execute_result"
    }
   ],
   "source": [
    "data"
   ]
  },
  {
   "cell_type": "code",
   "execution_count": 27,
   "id": "fff84181-8605-4899-b453-65d77e3160a3",
   "metadata": {},
   "outputs": [
    {
     "data": {
      "text/plain": [
       "array([1, 2, 3])"
      ]
     },
     "execution_count": 27,
     "metadata": {},
     "output_type": "execute_result"
    }
   ],
   "source": [
    "data.squeeze()"
   ]
  },
  {
   "cell_type": "code",
   "execution_count": 28,
   "id": "580ea196-49d4-433d-af36-8b97f711db97",
   "metadata": {},
   "outputs": [
    {
     "data": {
      "text/plain": [
       "array([[7, 7, 2, 3],\n",
       "       [3, 2, 5, 3],\n",
       "       [9, 7, 4, 7],\n",
       "       [6, 3, 1, 2]])"
      ]
     },
     "execution_count": 28,
     "metadata": {},
     "output_type": "execute_result"
    }
   ],
   "source": [
    "arr"
   ]
  },
  {
   "cell_type": "code",
   "execution_count": 29,
   "id": "5f39e22a-d212-4ed6-83bb-7825cba4630e",
   "metadata": {},
   "outputs": [
    {
     "data": {
      "text/plain": [
       "array([7, 7, 7, 7, 2, 2, 3, 3, 3, 3, 2, 2, 5, 5, 3, 3, 9, 9, 7, 7, 4, 4,\n",
       "       7, 7, 6, 6, 3, 3, 1, 1, 2, 2])"
      ]
     },
     "execution_count": 29,
     "metadata": {},
     "output_type": "execute_result"
    }
   ],
   "source": [
    "arr.repeat(2)  # it repeats all elments given number of times\n"
   ]
  },
  {
   "cell_type": "code",
   "execution_count": 30,
   "id": "a16fc10a-90d9-46ce-aa6f-774d5babc7e1",
   "metadata": {},
   "outputs": [
    {
     "data": {
      "text/plain": [
       "array([7, 7, 7, 7, 2, 2, 3, 3, 3, 3, 2, 2, 5, 5, 3, 3, 9, 9, 7, 7, 4, 4,\n",
       "       7, 7, 6, 6, 3, 3, 1, 1, 2, 2])"
      ]
     },
     "execution_count": 30,
     "metadata": {},
     "output_type": "execute_result"
    }
   ],
   "source": [
    "np.repeat(arr,2)"
   ]
  },
  {
   "cell_type": "code",
   "execution_count": null,
   "id": "742e011e-82d2-426e-b235-cb4f126ee40d",
   "metadata": {},
   "outputs": [],
   "source": []
  },
  {
   "cell_type": "code",
   "execution_count": 31,
   "id": "cb46f7b1-2891-44a5-b942-356e6ddac5ba",
   "metadata": {},
   "outputs": [
    {
     "data": {
      "text/plain": [
       "array([[7, 7, 2, 3],\n",
       "       [3, 2, 5, 3],\n",
       "       [9, 7, 4, 7],\n",
       "       [6, 3, 1, 2]])"
      ]
     },
     "execution_count": 31,
     "metadata": {},
     "output_type": "execute_result"
    }
   ],
   "source": [
    "arr"
   ]
  },
  {
   "cell_type": "code",
   "execution_count": 32,
   "id": "661e8d82-0683-4dcb-9d83-59c3cf2ef0ca",
   "metadata": {},
   "outputs": [
    {
     "data": {
      "text/plain": [
       "array([[2, 7, 7, 2],\n",
       "       [3, 3, 2, 5],\n",
       "       [3, 9, 7, 4],\n",
       "       [7, 6, 3, 1]])"
      ]
     },
     "execution_count": 32,
     "metadata": {},
     "output_type": "execute_result"
    }
   ],
   "source": [
    "np.roll(arr , shift = 1)"
   ]
  },
  {
   "cell_type": "code",
   "execution_count": 29,
   "id": "fe042761-49f4-4306-8b64-8a8102386177",
   "metadata": {},
   "outputs": [
    {
     "data": {
      "text/plain": [
       "array([[4, 4, 7, 7],\n",
       "       [7, 1, 6, 6],\n",
       "       [8, 8, 3, 5],\n",
       "       [8, 5, 5, 5]])"
      ]
     },
     "execution_count": 29,
     "metadata": {},
     "output_type": "execute_result"
    }
   ],
   "source": [
    "np.roll(arr , shift = 2)  # it shifts each element twice[forward shift]"
   ]
  },
  {
   "cell_type": "code",
   "execution_count": 30,
   "id": "98c32cfc-aa30-461c-8f4d-c9ba1ba7b423",
   "metadata": {},
   "outputs": [
    {
     "ename": "AttributeError",
     "evalue": "'numpy.ndarray' object has no attribute 'roll'",
     "output_type": "error",
     "traceback": [
      "\u001b[0;31m---------------------------------------------------------------------------\u001b[0m",
      "\u001b[0;31mAttributeError\u001b[0m                            Traceback (most recent call last)",
      "Cell \u001b[0;32mIn[30], line 1\u001b[0m\n\u001b[0;32m----> 1\u001b[0m \u001b[43mdata\u001b[49m\u001b[38;5;241;43m.\u001b[39;49m\u001b[43mroll\u001b[49m(\u001b[38;5;241m1\u001b[39m)\n",
      "\u001b[0;31mAttributeError\u001b[0m: 'numpy.ndarray' object has no attribute 'roll'"
     ]
    }
   ],
   "source": []
  },
  {
   "cell_type": "code",
   "execution_count": 33,
   "id": "e82b6440-f8b2-49a5-ba6c-6f2953b23566",
   "metadata": {},
   "outputs": [
    {
     "data": {
      "text/plain": [
       "array([[7, 7, 2, 3],\n",
       "       [3, 2, 5, 3],\n",
       "       [9, 7, 4, 7],\n",
       "       [6, 3, 1, 2]])"
      ]
     },
     "execution_count": 33,
     "metadata": {},
     "output_type": "execute_result"
    }
   ],
   "source": [
    "arr"
   ]
  },
  {
   "cell_type": "code",
   "execution_count": 34,
   "id": "4e872279-ad08-4a1c-8bf6-35a215cba4d8",
   "metadata": {},
   "outputs": [
    {
     "ename": "AttributeError",
     "evalue": "'numpy.ndarray' object has no attribute 'diag'",
     "output_type": "error",
     "traceback": [
      "\u001b[0;31m---------------------------------------------------------------------------\u001b[0m",
      "\u001b[0;31mAttributeError\u001b[0m                            Traceback (most recent call last)",
      "Cell \u001b[0;32mIn[34], line 1\u001b[0m\n\u001b[0;32m----> 1\u001b[0m \u001b[43marr\u001b[49m\u001b[38;5;241;43m.\u001b[39;49m\u001b[43mdiag\u001b[49m()\n",
      "\u001b[0;31mAttributeError\u001b[0m: 'numpy.ndarray' object has no attribute 'diag'"
     ]
    }
   ],
   "source": [
    "arr.diag()"
   ]
  },
  {
   "cell_type": "code",
   "execution_count": 35,
   "id": "cb152855-7fee-4d14-afd8-7e4c2ffe44b9",
   "metadata": {},
   "outputs": [
    {
     "data": {
      "text/plain": [
       "array([7, 2, 4, 2])"
      ]
     },
     "execution_count": 35,
     "metadata": {},
     "output_type": "execute_result"
    }
   ],
   "source": [
    "np.diag(arr)"
   ]
  },
  {
   "cell_type": "code",
   "execution_count": 36,
   "id": "1201a98d-9f87-47a7-a647-0799acd4ded0",
   "metadata": {},
   "outputs": [],
   "source": [
    "arr1 = np.array([1,2,3,4])"
   ]
  },
  {
   "cell_type": "code",
   "execution_count": 37,
   "id": "59cdb812-93d4-4c10-b6df-84d12314718b",
   "metadata": {},
   "outputs": [
    {
     "data": {
      "text/plain": [
       "array([1, 2, 3, 4])"
      ]
     },
     "execution_count": 37,
     "metadata": {},
     "output_type": "execute_result"
    }
   ],
   "source": [
    "arr1"
   ]
  },
  {
   "cell_type": "code",
   "execution_count": 38,
   "id": "bcea705b-ceac-4985-b2cb-86b09d80ee85",
   "metadata": {},
   "outputs": [
    {
     "data": {
      "text/plain": [
       "array([[1, 0, 0, 0],\n",
       "       [0, 2, 0, 0],\n",
       "       [0, 0, 3, 0],\n",
       "       [0, 0, 0, 4]])"
      ]
     },
     "execution_count": 38,
     "metadata": {},
     "output_type": "execute_result"
    }
   ],
   "source": [
    "np.diag(arr1)"
   ]
  },
  {
   "cell_type": "code",
   "execution_count": null,
   "id": "df2fe1ed-8dc0-4cbc-8ead-717f866add8f",
   "metadata": {},
   "outputs": [],
   "source": []
  },
  {
   "cell_type": "code",
   "execution_count": 39,
   "id": "62cae1b9-d35a-40b4-8086-eeec5e000071",
   "metadata": {},
   "outputs": [],
   "source": [
    "# Numpy - Stirng operations\n"
   ]
  },
  {
   "cell_type": "code",
   "execution_count": 40,
   "id": "a4cebe58-164d-4e4e-b87e-a2aecb308802",
   "metadata": {},
   "outputs": [],
   "source": [
    "arr2 = np.array([\"Mohan\",\"Sohan\",\"Dinesh\"])"
   ]
  },
  {
   "cell_type": "code",
   "execution_count": 41,
   "id": "ad8561a1-fcac-4fad-b894-1f514ddb0cb8",
   "metadata": {},
   "outputs": [
    {
     "data": {
      "text/plain": [
       "array(['Mohan', 'Sohan', 'Dinesh'], dtype='<U6')"
      ]
     },
     "execution_count": 41,
     "metadata": {},
     "output_type": "execute_result"
    }
   ],
   "source": [
    "arr2"
   ]
  },
  {
   "cell_type": "code",
   "execution_count": 42,
   "id": "0225f82f-1485-400d-9f1e-90f1ccd875b0",
   "metadata": {},
   "outputs": [
    {
     "data": {
      "text/plain": [
       "array(['MOHAN', 'SOHAN', 'DINESH'], dtype='<U6')"
      ]
     },
     "execution_count": 42,
     "metadata": {},
     "output_type": "execute_result"
    }
   ],
   "source": [
    "np.char.upper(arr2)"
   ]
  },
  {
   "cell_type": "code",
   "execution_count": 43,
   "id": "9b1ca543-a179-4076-90e2-4c71ef03149b",
   "metadata": {},
   "outputs": [
    {
     "ename": "AttributeError",
     "evalue": "'numpy.ndarray' object has no attribute 'char'",
     "output_type": "error",
     "traceback": [
      "\u001b[0;31m---------------------------------------------------------------------------\u001b[0m",
      "\u001b[0;31mAttributeError\u001b[0m                            Traceback (most recent call last)",
      "Cell \u001b[0;32mIn[43], line 1\u001b[0m\n\u001b[0;32m----> 1\u001b[0m \u001b[43marr2\u001b[49m\u001b[38;5;241;43m.\u001b[39;49m\u001b[43mchar\u001b[49m\u001b[38;5;241m.\u001b[39mupper()\n",
      "\u001b[0;31mAttributeError\u001b[0m: 'numpy.ndarray' object has no attribute 'char'"
     ]
    }
   ],
   "source": [
    "arr2.char.upper()"
   ]
  },
  {
   "cell_type": "code",
   "execution_count": null,
   "id": "5e4cf91a-45f2-40f5-8e2e-22105aefca5f",
   "metadata": {},
   "outputs": [],
   "source": []
  },
  {
   "cell_type": "code",
   "execution_count": 44,
   "id": "dadc6831-f91e-4cf2-93de-0a08d0f888a8",
   "metadata": {},
   "outputs": [
    {
     "data": {
      "text/plain": [
       "array(['mohan', 'sohan', 'dinesh'], dtype='<U6')"
      ]
     },
     "execution_count": 44,
     "metadata": {},
     "output_type": "execute_result"
    }
   ],
   "source": [
    "np.char.lower(arr2)"
   ]
  },
  {
   "cell_type": "code",
   "execution_count": 45,
   "id": "0ccc3e93-6db4-4203-8966-f693ed9308d1",
   "metadata": {},
   "outputs": [
    {
     "data": {
      "text/plain": [
       "array(['Mohan', 'Sohan', 'Dinesh'], dtype='<U6')"
      ]
     },
     "execution_count": 45,
     "metadata": {},
     "output_type": "execute_result"
    }
   ],
   "source": [
    "np.char.capitalize(arr2)"
   ]
  },
  {
   "cell_type": "code",
   "execution_count": null,
   "id": "ead1626e-2ba7-4c90-aad3-429b60ae0b6b",
   "metadata": {},
   "outputs": [],
   "source": []
  },
  {
   "cell_type": "code",
   "execution_count": null,
   "id": "f1838026-39bf-4756-b11d-75d68ba68bb2",
   "metadata": {},
   "outputs": [],
   "source": []
  },
  {
   "cell_type": "code",
   "execution_count": 46,
   "id": "fc9e0b3c-a591-4fe7-a898-a4d9a49a1436",
   "metadata": {},
   "outputs": [],
   "source": [
    "# NUmpy - Mathematical operations"
   ]
  },
  {
   "cell_type": "code",
   "execution_count": 47,
   "id": "d470d183-02ae-4096-9729-b6e6f4850e3e",
   "metadata": {},
   "outputs": [
    {
     "data": {
      "text/plain": [
       "array([[7, 7, 2, 3],\n",
       "       [3, 2, 5, 3],\n",
       "       [9, 7, 4, 7],\n",
       "       [6, 3, 1, 2]])"
      ]
     },
     "execution_count": 47,
     "metadata": {},
     "output_type": "execute_result"
    }
   ],
   "source": [
    "arr"
   ]
  },
  {
   "cell_type": "code",
   "execution_count": 48,
   "id": "f47f0e94-1f74-4aad-a80e-6553936506b4",
   "metadata": {},
   "outputs": [
    {
     "ename": "AttributeError",
     "evalue": "'numpy.ndarray' object has no attribute 'sin'",
     "output_type": "error",
     "traceback": [
      "\u001b[0;31m---------------------------------------------------------------------------\u001b[0m",
      "\u001b[0;31mAttributeError\u001b[0m                            Traceback (most recent call last)",
      "Cell \u001b[0;32mIn[48], line 1\u001b[0m\n\u001b[0;32m----> 1\u001b[0m \u001b[43marr\u001b[49m\u001b[38;5;241;43m.\u001b[39;49m\u001b[43msin\u001b[49m()\n",
      "\u001b[0;31mAttributeError\u001b[0m: 'numpy.ndarray' object has no attribute 'sin'"
     ]
    }
   ],
   "source": [
    "arr.sin()"
   ]
  },
  {
   "cell_type": "code",
   "execution_count": 49,
   "id": "5fcc53db-049c-44d0-886b-7a65f35b18c9",
   "metadata": {},
   "outputs": [
    {
     "ename": "AttributeError",
     "evalue": "'numpy.ndarray' object has no attribute 'sin'",
     "output_type": "error",
     "traceback": [
      "\u001b[0;31m---------------------------------------------------------------------------\u001b[0m",
      "\u001b[0;31mAttributeError\u001b[0m                            Traceback (most recent call last)",
      "Cell \u001b[0;32mIn[49], line 1\u001b[0m\n\u001b[0;32m----> 1\u001b[0m \u001b[43marr\u001b[49m\u001b[38;5;241;43m.\u001b[39;49m\u001b[43msin\u001b[49m\n",
      "\u001b[0;31mAttributeError\u001b[0m: 'numpy.ndarray' object has no attribute 'sin'"
     ]
    }
   ],
   "source": [
    "arr.sin"
   ]
  },
  {
   "cell_type": "code",
   "execution_count": null,
   "id": "1d9afb5c-a405-49e7-a928-82a66170051c",
   "metadata": {},
   "outputs": [],
   "source": []
  },
  {
   "cell_type": "code",
   "execution_count": 50,
   "id": "9af1f14a-8377-43e1-9299-151adb541e92",
   "metadata": {},
   "outputs": [
    {
     "data": {
      "text/plain": [
       "array([[ 0.6569866 ,  0.6569866 ,  0.90929743,  0.14112001],\n",
       "       [ 0.14112001,  0.90929743, -0.95892427,  0.14112001],\n",
       "       [ 0.41211849,  0.6569866 , -0.7568025 ,  0.6569866 ],\n",
       "       [-0.2794155 ,  0.14112001,  0.84147098,  0.90929743]])"
      ]
     },
     "execution_count": 50,
     "metadata": {},
     "output_type": "execute_result"
    }
   ],
   "source": [
    "np.sin(arr)"
   ]
  },
  {
   "cell_type": "code",
   "execution_count": 51,
   "id": "33101042-5028-4e0b-9f0c-1a643f6fa0ca",
   "metadata": {},
   "outputs": [
    {
     "data": {
      "text/plain": [
       "array([[ 0.75390225,  0.75390225, -0.41614684, -0.9899925 ],\n",
       "       [-0.9899925 , -0.41614684,  0.28366219, -0.9899925 ],\n",
       "       [-0.91113026,  0.75390225, -0.65364362,  0.75390225],\n",
       "       [ 0.96017029, -0.9899925 ,  0.54030231, -0.41614684]])"
      ]
     },
     "execution_count": 51,
     "metadata": {},
     "output_type": "execute_result"
    }
   ],
   "source": [
    "np.cos(arr)"
   ]
  },
  {
   "cell_type": "code",
   "execution_count": 52,
   "id": "297b8ee6-73a4-4f4c-84d5-0bcc5e22f546",
   "metadata": {},
   "outputs": [
    {
     "data": {
      "text/plain": [
       "array([[ 0.87144798,  0.87144798, -2.18503986, -0.14254654],\n",
       "       [-0.14254654, -2.18503986, -3.38051501, -0.14254654],\n",
       "       [-0.45231566,  0.87144798,  1.15782128,  0.87144798],\n",
       "       [-0.29100619, -0.14254654,  1.55740772, -2.18503986]])"
      ]
     },
     "execution_count": 52,
     "metadata": {},
     "output_type": "execute_result"
    }
   ],
   "source": [
    "np.tan(arr)"
   ]
  },
  {
   "cell_type": "code",
   "execution_count": 53,
   "id": "efd32d85-87a1-4a81-b17c-f77633eb9dc6",
   "metadata": {},
   "outputs": [
    {
     "data": {
      "text/plain": [
       "array([[1.09663316e+03, 1.09663316e+03, 7.38905610e+00, 2.00855369e+01],\n",
       "       [2.00855369e+01, 7.38905610e+00, 1.48413159e+02, 2.00855369e+01],\n",
       "       [8.10308393e+03, 1.09663316e+03, 5.45981500e+01, 1.09663316e+03],\n",
       "       [4.03428793e+02, 2.00855369e+01, 2.71828183e+00, 7.38905610e+00]])"
      ]
     },
     "execution_count": 53,
     "metadata": {},
     "output_type": "execute_result"
    }
   ],
   "source": [
    "np.exp(arr)"
   ]
  },
  {
   "cell_type": "code",
   "execution_count": 54,
   "id": "7e36f943-6e0b-4c6e-9b9f-411d2888daeb",
   "metadata": {},
   "outputs": [
    {
     "data": {
      "text/plain": [
       "array([[49, 49,  4,  9],\n",
       "       [ 9,  4, 25,  9],\n",
       "       [81, 49, 16, 49],\n",
       "       [36,  9,  1,  4]])"
      ]
     },
     "execution_count": 54,
     "metadata": {},
     "output_type": "execute_result"
    }
   ],
   "source": [
    "np.power(arr,2)"
   ]
  },
  {
   "cell_type": "code",
   "execution_count": 55,
   "id": "59f53734-9d74-42b1-8262-92eed9093a36",
   "metadata": {},
   "outputs": [
    {
     "data": {
      "text/plain": [
       "array([[2.64575131, 2.64575131, 1.41421356, 1.73205081],\n",
       "       [1.73205081, 1.41421356, 2.23606798, 1.73205081],\n",
       "       [3.        , 2.64575131, 2.        , 2.64575131],\n",
       "       [2.44948974, 1.73205081, 1.        , 1.41421356]])"
      ]
     },
     "execution_count": 55,
     "metadata": {},
     "output_type": "execute_result"
    }
   ],
   "source": [
    "np.sqrt(arr)"
   ]
  },
  {
   "cell_type": "code",
   "execution_count": null,
   "id": "5745db84-7845-4298-9e25-24f486a984c8",
   "metadata": {},
   "outputs": [],
   "source": []
  },
  {
   "cell_type": "code",
   "execution_count": 56,
   "id": "685c15f2-fc5c-45ab-acdb-8e6bde96e7f0",
   "metadata": {},
   "outputs": [
    {
     "data": {
      "text/plain": [
       "4.4375"
      ]
     },
     "execution_count": 56,
     "metadata": {},
     "output_type": "execute_result"
    }
   ],
   "source": [
    "np.mean(arr)"
   ]
  },
  {
   "cell_type": "code",
   "execution_count": 57,
   "id": "9090816f-2baf-4d15-b6fd-0bef60524b5c",
   "metadata": {},
   "outputs": [
    {
     "data": {
      "text/plain": [
       "3.5"
      ]
     },
     "execution_count": 57,
     "metadata": {},
     "output_type": "execute_result"
    }
   ],
   "source": [
    "np.median(arr)"
   ]
  },
  {
   "cell_type": "code",
   "execution_count": 58,
   "id": "5cf65ee4-ee59-4318-9c45-ec7c39154d87",
   "metadata": {},
   "outputs": [
    {
     "data": {
      "text/plain": [
       "9"
      ]
     },
     "execution_count": 58,
     "metadata": {},
     "output_type": "execute_result"
    }
   ],
   "source": [
    "np.max(arr)"
   ]
  },
  {
   "cell_type": "code",
   "execution_count": 59,
   "id": "f78c9ce4-9efc-464e-a3d7-55bad1fc1e18",
   "metadata": {},
   "outputs": [
    {
     "data": {
      "text/plain": [
       "1"
      ]
     },
     "execution_count": 59,
     "metadata": {},
     "output_type": "execute_result"
    }
   ],
   "source": [
    "np.min(arr)"
   ]
  },
  {
   "cell_type": "code",
   "execution_count": 60,
   "id": "27d901f1-8caa-48c5-8d05-0666eee09190",
   "metadata": {},
   "outputs": [
    {
     "data": {
      "text/plain": [
       "5.49609375"
      ]
     },
     "execution_count": 60,
     "metadata": {},
     "output_type": "execute_result"
    }
   ],
   "source": [
    "np.var(arr)"
   ]
  },
  {
   "cell_type": "code",
   "execution_count": 61,
   "id": "14de0709-5788-4af2-a065-8c14fba05e52",
   "metadata": {},
   "outputs": [
    {
     "data": {
      "text/plain": [
       "2.3443749166888814"
      ]
     },
     "execution_count": 61,
     "metadata": {},
     "output_type": "execute_result"
    }
   ],
   "source": [
    "np.std(arr)"
   ]
  },
  {
   "cell_type": "code",
   "execution_count": 62,
   "id": "8522dac3-3aa5-42f7-9f00-71fd9e1261f8",
   "metadata": {},
   "outputs": [],
   "source": [
    "#  NUmpy search ,sort , counting operations"
   ]
  },
  {
   "cell_type": "code",
   "execution_count": null,
   "id": "2a05b5cf-9971-498d-b83e-bd2a86729cca",
   "metadata": {},
   "outputs": [],
   "source": []
  },
  {
   "cell_type": "code",
   "execution_count": 65,
   "id": "b5900a53-1830-445e-b27c-225b24304a7a",
   "metadata": {},
   "outputs": [
    {
     "data": {
      "text/plain": [
       "array([[7, 7, 2, 3],\n",
       "       [3, 2, 5, 3],\n",
       "       [9, 7, 4, 7],\n",
       "       [6, 3, 1, 2]])"
      ]
     },
     "execution_count": 65,
     "metadata": {},
     "output_type": "execute_result"
    }
   ],
   "source": [
    "arr"
   ]
  },
  {
   "cell_type": "code",
   "execution_count": 66,
   "id": "2b87fcc2-b88f-4111-a332-85cd057d85d4",
   "metadata": {},
   "outputs": [
    {
     "data": {
      "text/plain": [
       "array([[2, 3, 7, 7],\n",
       "       [2, 3, 3, 5],\n",
       "       [4, 7, 7, 9],\n",
       "       [1, 2, 3, 6]])"
      ]
     },
     "execution_count": 66,
     "metadata": {},
     "output_type": "execute_result"
    }
   ],
   "source": [
    "np.sort(arr)"
   ]
  },
  {
   "cell_type": "code",
   "execution_count": 79,
   "id": "5b46c79a-9120-4433-bd2e-2595372e5899",
   "metadata": {},
   "outputs": [],
   "source": [
    "arr1 = np.array([1,5,3,7,6,12,2])"
   ]
  },
  {
   "cell_type": "code",
   "execution_count": 80,
   "id": "22c82b40-d600-4027-926d-6e172ed911c5",
   "metadata": {},
   "outputs": [
    {
     "data": {
      "text/plain": [
       "array([ 1,  2,  3,  5,  6,  7, 12])"
      ]
     },
     "execution_count": 80,
     "metadata": {},
     "output_type": "execute_result"
    }
   ],
   "source": [
    "np.sort(arr1)"
   ]
  },
  {
   "cell_type": "code",
   "execution_count": 81,
   "id": "b9237bac-a580-421b-9361-292a26f5634e",
   "metadata": {},
   "outputs": [
    {
     "data": {
      "text/plain": [
       "5"
      ]
     },
     "execution_count": 81,
     "metadata": {},
     "output_type": "execute_result"
    }
   ],
   "source": [
    "np.searchsorted(arr1 , 9) # it give the index where the element should be placed to maintain order."
   ]
  },
  {
   "cell_type": "code",
   "execution_count": 85,
   "id": "0e6b9c84-3525-4742-9fee-e58a821ba0a9",
   "metadata": {},
   "outputs": [
    {
     "data": {
      "text/plain": [
       "1"
      ]
     },
     "execution_count": 85,
     "metadata": {},
     "output_type": "execute_result"
    }
   ],
   "source": [
    "np.searchsorted(arr1 , 4)"
   ]
  },
  {
   "cell_type": "code",
   "execution_count": 86,
   "id": "2165fffb-278f-4932-8e48-fe1e6880f458",
   "metadata": {},
   "outputs": [
    {
     "data": {
      "text/plain": [
       "5"
      ]
     },
     "execution_count": 86,
     "metadata": {},
     "output_type": "execute_result"
    }
   ],
   "source": [
    "np.searchsorted(arr1 ,8)"
   ]
  },
  {
   "cell_type": "code",
   "execution_count": 88,
   "id": "379ad7cc-d472-4c3e-8a22-b10f745961b7",
   "metadata": {},
   "outputs": [
    {
     "data": {
      "text/plain": [
       "7"
      ]
     },
     "execution_count": 88,
     "metadata": {},
     "output_type": "execute_result"
    }
   ],
   "source": [
    "np.count_nonzero(arr1) # it find the total no. of non - zero elements\n"
   ]
  },
  {
   "cell_type": "code",
   "execution_count": null,
   "id": "9dfc7f88-3a4c-4dd7-8f27-2c7f177b4294",
   "metadata": {},
   "outputs": [],
   "source": []
  },
  {
   "cell_type": "code",
   "execution_count": 94,
   "id": "d82ad1dd-497a-47d7-ae7d-628b16dc966d",
   "metadata": {},
   "outputs": [
    {
     "data": {
      "text/plain": [
       "array([ 1,  5,  3,  7,  6, 12,  2])"
      ]
     },
     "execution_count": 94,
     "metadata": {},
     "output_type": "execute_result"
    }
   ],
   "source": [
    "arr1"
   ]
  },
  {
   "cell_type": "code",
   "execution_count": 89,
   "id": "d73fa4bc-2c4b-4db6-9f4c-bc62746ed96a",
   "metadata": {},
   "outputs": [
    {
     "data": {
      "text/plain": [
       "(array([3, 4, 5]),)"
      ]
     },
     "execution_count": 89,
     "metadata": {},
     "output_type": "execute_result"
    }
   ],
   "source": [
    "np.where(arr1>5)  # it give the array of those indexces where the element > 5"
   ]
  },
  {
   "cell_type": "code",
   "execution_count": 90,
   "id": "b73a6fc3-b4b3-4818-a6a6-b0136adf362a",
   "metadata": {},
   "outputs": [
    {
     "data": {
      "text/plain": [
       "array([[7, 7, 2, 3],\n",
       "       [3, 2, 5, 3],\n",
       "       [9, 7, 4, 7],\n",
       "       [6, 3, 1, 2]])"
      ]
     },
     "execution_count": 90,
     "metadata": {},
     "output_type": "execute_result"
    }
   ],
   "source": [
    "arr"
   ]
  },
  {
   "cell_type": "code",
   "execution_count": 91,
   "id": "6a14f21c-21c4-4566-82a5-c5434b1fd040",
   "metadata": {},
   "outputs": [
    {
     "data": {
      "text/plain": [
       "(array([0, 0, 2, 2, 2, 3]), array([0, 1, 0, 1, 3, 0]))"
      ]
     },
     "execution_count": 91,
     "metadata": {},
     "output_type": "execute_result"
    }
   ],
   "source": [
    "np.where(arr>5)"
   ]
  },
  {
   "cell_type": "code",
   "execution_count": 93,
   "id": "d5ccc7a0-8771-482e-87e5-b00b709f8858",
   "metadata": {},
   "outputs": [
    {
     "data": {
      "text/plain": [
       "array([ 7,  6, 12])"
      ]
     },
     "execution_count": 93,
     "metadata": {},
     "output_type": "execute_result"
    }
   ],
   "source": [
    "np.extract(arr1>5,arr1)"
   ]
  },
  {
   "cell_type": "code",
   "execution_count": 95,
   "id": "66fe7e74-7e98-480f-9e47-7ead8b9c5141",
   "metadata": {},
   "outputs": [
    {
     "data": {
      "text/plain": [
       "array([7, 7, 9, 7, 7, 6])"
      ]
     },
     "execution_count": 95,
     "metadata": {},
     "output_type": "execute_result"
    }
   ],
   "source": [
    "np.extract(arr>5 ,arr)"
   ]
  },
  {
   "cell_type": "code",
   "execution_count": null,
   "id": "240d47db-6ecc-4af8-815d-a42a2255e48e",
   "metadata": {},
   "outputs": [],
   "source": []
  },
  {
   "cell_type": "code",
   "execution_count": null,
   "id": "993e238e-e8d7-4176-860e-e77ef80e9b04",
   "metadata": {},
   "outputs": [],
   "source": []
  },
  {
   "cell_type": "code",
   "execution_count": 96,
   "id": "539d5cb2-5cca-408a-a52c-0210bc1bb479",
   "metadata": {},
   "outputs": [],
   "source": [
    "#  Byte Swapping  - it converts the element into  byte form"
   ]
  },
  {
   "cell_type": "code",
   "execution_count": 97,
   "id": "f250ccc0-797f-45c5-8770-07b71aabc7be",
   "metadata": {},
   "outputs": [
    {
     "data": {
      "text/plain": [
       "array([ 1,  5,  3,  7,  6, 12,  2])"
      ]
     },
     "execution_count": 97,
     "metadata": {},
     "output_type": "execute_result"
    }
   ],
   "source": [
    "arr1"
   ]
  },
  {
   "cell_type": "code",
   "execution_count": 98,
   "id": "4a2d94e3-0fd6-4a7b-8028-eac3e9893682",
   "metadata": {},
   "outputs": [
    {
     "data": {
      "text/plain": [
       "array([ 72057594037927936, 360287970189639680, 216172782113783808,\n",
       "       504403158265495552, 432345564227567616, 864691128455135232,\n",
       "       144115188075855872])"
      ]
     },
     "execution_count": 98,
     "metadata": {},
     "output_type": "execute_result"
    }
   ],
   "source": [
    "arr1.byteswap()"
   ]
  },
  {
   "cell_type": "code",
   "execution_count": null,
   "id": "7d5073e7-5ba4-4eee-9b03-c08e747d49de",
   "metadata": {},
   "outputs": [],
   "source": []
  },
  {
   "cell_type": "code",
   "execution_count": null,
   "id": "5bd36b74-b9cb-4a67-af10-4f388d1a77ed",
   "metadata": {},
   "outputs": [],
   "source": []
  },
  {
   "cell_type": "code",
   "execution_count": 99,
   "id": "dd027eac-6cb0-42ac-8c31-52d0f02f52fe",
   "metadata": {},
   "outputs": [],
   "source": [
    "# NUmpy matrix library"
   ]
  },
  {
   "cell_type": "code",
   "execution_count": 101,
   "id": "7219026a-a7db-450a-99d3-b056e6a2543c",
   "metadata": {},
   "outputs": [],
   "source": [
    "from numpy import matlib as nm"
   ]
  },
  {
   "cell_type": "code",
   "execution_count": 102,
   "id": "06f4554e-ca53-4c0a-bdb5-ada6b9206c50",
   "metadata": {},
   "outputs": [
    {
     "data": {
      "text/plain": [
       "matrix([[0., 0., 0., 0., 0.]])"
      ]
     },
     "execution_count": 102,
     "metadata": {},
     "output_type": "execute_result"
    }
   ],
   "source": [
    "nm.zeros(5)"
   ]
  },
  {
   "cell_type": "code",
   "execution_count": 103,
   "id": "e9e33e69-d773-4a63-95b6-4c1444616913",
   "metadata": {},
   "outputs": [
    {
     "data": {
      "text/plain": [
       "matrix([[1., 1., 1., 1., 1.]])"
      ]
     },
     "execution_count": 103,
     "metadata": {},
     "output_type": "execute_result"
    }
   ],
   "source": [
    "nm.ones(5)"
   ]
  },
  {
   "cell_type": "code",
   "execution_count": 104,
   "id": "307ecdb6-bc7d-4b4f-82b8-524e3ceeb3b6",
   "metadata": {},
   "outputs": [
    {
     "data": {
      "text/plain": [
       "array([1. , 1.5, 2. , 2.5, 3. ])"
      ]
     },
     "execution_count": 104,
     "metadata": {},
     "output_type": "execute_result"
    }
   ],
   "source": [
    "nm.linspace(1,3,5)"
   ]
  },
  {
   "cell_type": "code",
   "execution_count": 105,
   "id": "69d3b4f2-e010-46f3-a274-eb26b3c3c625",
   "metadata": {},
   "outputs": [
    {
     "data": {
      "text/plain": [
       "matrix([[1., 0., 0., 0.],\n",
       "        [0., 1., 0., 0.],\n",
       "        [0., 0., 1., 0.],\n",
       "        [0., 0., 0., 1.]])"
      ]
     },
     "execution_count": 105,
     "metadata": {},
     "output_type": "execute_result"
    }
   ],
   "source": [
    "nm.eye(4)"
   ]
  },
  {
   "cell_type": "code",
   "execution_count": 106,
   "id": "71a20f13-0608-4a6e-90d6-ce9368a03a0c",
   "metadata": {},
   "outputs": [
    {
     "data": {
      "text/plain": [
       "array([[3, 3, 3, 3],\n",
       "       [2, 1, 2, 1]])"
      ]
     },
     "execution_count": 106,
     "metadata": {},
     "output_type": "execute_result"
    }
   ],
   "source": [
    "nm.random.randint(1,4,(2,4))"
   ]
  },
  {
   "cell_type": "code",
   "execution_count": null,
   "id": "77f844f3-48e9-4ec3-94d3-0a6fb4d8cc9f",
   "metadata": {},
   "outputs": [],
   "source": [
    "#  we can perform all the operations that we have done in numpy library"
   ]
  }
 ],
 "metadata": {
  "kernelspec": {
   "display_name": "Python 3 (ipykernel)",
   "language": "python",
   "name": "python3"
  },
  "language_info": {
   "codemirror_mode": {
    "name": "ipython",
    "version": 3
   },
   "file_extension": ".py",
   "mimetype": "text/x-python",
   "name": "python",
   "nbconvert_exporter": "python",
   "pygments_lexer": "ipython3",
   "version": "3.10.8"
  }
 },
 "nbformat": 4,
 "nbformat_minor": 5
}
